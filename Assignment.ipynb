{
 "cells": [
  {
   "cell_type": "markdown",
   "metadata": {},
   "source": [
    "## Assignment Tasks\n",
    "\n",
    "### Exercise 1: Working with Standard Library Modules\n",
    "##### Task 1.1: Use the math module to calculate the square root of 144.\n",
    "##### Task 1.2: Utilize the datetime module to display today's date.\n",
    "##### Task 1.3: Generate a random integer between 1 and 10 with the random module."
   ]
  },
  {
   "cell_type": "code",
   "execution_count": null,
   "metadata": {},
   "outputs": [],
   "source": []
  },
  {
   "cell_type": "markdown",
   "metadata": {},
   "source": [
    "### Exercise 2: Using External Libraries\n",
    "##### Task 2.1: Install numpy and create a 1D array of numbers from 1 to 5.\n",
    "\n",
    "### Exercise 3: Custom Module Creation\n",
    "##### Task 3.1: Develop a utilities.py module with a multiply function. Use this in a separate script.\n",
    "\n",
    "### **Exercise 4: Package Management with pip **\n",
    "##### Task 4.1: Create a virtual environment and install the requests package.\n",
    "\n",
    "Quick Explanation of how to use VENV and PIP:\n",
    "\n",
    "Open a terminal or command prompt.\n",
    "\n",
    "Navigate to the directory where you want to create the virtual environment.\n",
    "\n",
    "Run python -m venv <name-of-environment> to create the virtual environment.\n",
    "\n",
    "Run source <name-of-environment>/bin/activate on Mac/Linux or <name-of-environment>\\Scripts\\activate on Windows to activate the virtual environment.\n",
    "\n",
    "Run pip install requests to install the requests package.\n",
    "\n",
    "Run pip list to see the installed packages.\n",
    "\n",
    "Screenshot your list of packages.\n",
    "\n",
    "Run deactivate to exit the virtual environment. Additional documentation can be found here\n",
    "\n",
    "CREATE .gitignore WITH LINES \"your-virtual-env __pycache__\"\n",
    "\n",
    "Submission Requirements\n",
    "\n",
    "A GitHub repository containing:\n",
    "Python scripts for Exercises 1, 2, and 3.\n",
    "A requirements.txt file for Exercise 4.\n",
    "(Optional) A screenshot in the repository showing the output of pip list in your virtual environment, demonstrating the installed requests package.\n",
    "\n",
    "Ensure all code is well-commented and formatted.\n",
    "\n",
    "### Evaluation Criteria\n",
    "\n",
    "Correct implementation and documentation of Python module tasks.\n",
    "\n",
    "Proper use of Git for version control and GitHub for code submission.\n",
    "\n",
    "Clean, readable code and repository organization.\n",
    "\n",
    "This assignment not only tests your Python skills but also introduces you to version control, an essential skill for any programmer. Good luck, and remember to commit frequently!"
   ]
  }
 ],
 "metadata": {
  "language_info": {
   "name": "python"
  }
 },
 "nbformat": 4,
 "nbformat_minor": 2
}
